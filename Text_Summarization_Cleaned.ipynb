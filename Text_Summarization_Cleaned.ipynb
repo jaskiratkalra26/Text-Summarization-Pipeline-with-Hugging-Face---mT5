{
  "nbformat": 4,
  "nbformat_minor": 0,
  "metadata": {
    "colab": {
      "provenance": [],
      "gpuType": "T4",
      "authorship_tag": "ABX9TyPrAhQMCCjMjV8Bg+htMvHm",
      "include_colab_link": true
    },
    "kernelspec": {
      "name": "python3",
      "display_name": "Python 3"
    },
    "language_info": {
      "name": "python"
    },
    "accelerator": "GPU",
    "widgets": {
      "application/vnd.jupyter.widget-state+json": {
        "state": {}
      }
    }
  },
  "cells": [
    {
      "cell_type": "markdown",
      "metadata": {
        "id": "view-in-github",
        "colab_type": "text"
      },
      "source": [
        "<a href=\"https://colab.research.google.com/github/jaskiratkalra26/Text-Summarization-Pipeline-with-Hugging-Face---mT5/blob/main/Text_Summarization.ipynb\" target=\"_parent\"><img src=\"https://colab.research.google.com/assets/colab-badge.svg\" alt=\"Open In Colab\"/></a>"
      ]
    },
    {
      "cell_type": "code",
      "source": [
        "!pip install datasets"
      ],
      "metadata": {
        "colab": {
          "base_uri": "https://localhost:8080/"
        },
        "id": "NBNVYHalgRc-",
        "outputId": "2df9c17f-7d02-4663-d23e-8a26167e72bb"
      },
      "execution_count": 1,
      "outputs": [
        {
          "output_type": "stream",
          "name": "stdout",
          "text": [
            "Requirement already satisfied: datasets in /usr/local/lib/python3.11/dist-packages (2.14.4)\n",
            "Requirement already satisfied: numpy>=1.17 in /usr/local/lib/python3.11/dist-packages (from datasets) (2.0.2)\n",
            "Requirement already satisfied: pyarrow>=8.0.0 in /usr/local/lib/python3.11/dist-packages (from datasets) (18.1.0)\n",
            "Requirement already satisfied: dill<0.3.8,>=0.3.0 in /usr/local/lib/python3.11/dist-packages (from datasets) (0.3.7)\n",
            "Requirement already satisfied: pandas in /usr/local/lib/python3.11/dist-packages (from datasets) (2.2.2)\n",
            "Requirement already satisfied: requests>=2.19.0 in /usr/local/lib/python3.11/dist-packages (from datasets) (2.32.3)\n",
            "Requirement already satisfied: tqdm>=4.62.1 in /usr/local/lib/python3.11/dist-packages (from datasets) (4.67.1)\n",
            "Requirement already satisfied: xxhash in /usr/local/lib/python3.11/dist-packages (from datasets) (3.5.0)\n",
            "Requirement already satisfied: multiprocess in /usr/local/lib/python3.11/dist-packages (from datasets) (0.70.15)\n",
            "Requirement already satisfied: fsspec>=2021.11.1 in /usr/local/lib/python3.11/dist-packages (from fsspec[http]>=2021.11.1->datasets) (2025.3.2)\n",
            "Requirement already satisfied: aiohttp in /usr/local/lib/python3.11/dist-packages (from datasets) (3.11.15)\n",
            "Requirement already satisfied: huggingface-hub<1.0.0,>=0.14.0 in /usr/local/lib/python3.11/dist-packages (from datasets) (0.32.4)\n",
            "Requirement already satisfied: packaging in /usr/local/lib/python3.11/dist-packages (from datasets) (24.2)\n",
            "Requirement already satisfied: pyyaml>=5.1 in /usr/local/lib/python3.11/dist-packages (from datasets) (6.0.2)\n",
            "Requirement already satisfied: aiohappyeyeballs>=2.3.0 in /usr/local/lib/python3.11/dist-packages (from aiohttp->datasets) (2.6.1)\n",
            "Requirement already satisfied: aiosignal>=1.1.2 in /usr/local/lib/python3.11/dist-packages (from aiohttp->datasets) (1.3.2)\n",
            "Requirement already satisfied: attrs>=17.3.0 in /usr/local/lib/python3.11/dist-packages (from aiohttp->datasets) (25.3.0)\n",
            "Requirement already satisfied: frozenlist>=1.1.1 in /usr/local/lib/python3.11/dist-packages (from aiohttp->datasets) (1.6.0)\n",
            "Requirement already satisfied: multidict<7.0,>=4.5 in /usr/local/lib/python3.11/dist-packages (from aiohttp->datasets) (6.4.4)\n",
            "Requirement already satisfied: propcache>=0.2.0 in /usr/local/lib/python3.11/dist-packages (from aiohttp->datasets) (0.3.1)\n",
            "Requirement already satisfied: yarl<2.0,>=1.17.0 in /usr/local/lib/python3.11/dist-packages (from aiohttp->datasets) (1.20.0)\n",
            "Requirement already satisfied: filelock in /usr/local/lib/python3.11/dist-packages (from huggingface-hub<1.0.0,>=0.14.0->datasets) (3.18.0)\n",
            "Requirement already satisfied: typing-extensions>=3.7.4.3 in /usr/local/lib/python3.11/dist-packages (from huggingface-hub<1.0.0,>=0.14.0->datasets) (4.14.0)\n",
            "Requirement already satisfied: hf-xet<2.0.0,>=1.1.2 in /usr/local/lib/python3.11/dist-packages (from huggingface-hub<1.0.0,>=0.14.0->datasets) (1.1.2)\n",
            "Requirement already satisfied: charset-normalizer<4,>=2 in /usr/local/lib/python3.11/dist-packages (from requests>=2.19.0->datasets) (3.4.2)\n",
            "Requirement already satisfied: idna<4,>=2.5 in /usr/local/lib/python3.11/dist-packages (from requests>=2.19.0->datasets) (3.10)\n",
            "Requirement already satisfied: urllib3<3,>=1.21.1 in /usr/local/lib/python3.11/dist-packages (from requests>=2.19.0->datasets) (2.4.0)\n",
            "Requirement already satisfied: certifi>=2017.4.17 in /usr/local/lib/python3.11/dist-packages (from requests>=2.19.0->datasets) (2025.4.26)\n",
            "Requirement already satisfied: python-dateutil>=2.8.2 in /usr/local/lib/python3.11/dist-packages (from pandas->datasets) (2.9.0.post0)\n",
            "Requirement already satisfied: pytz>=2020.1 in /usr/local/lib/python3.11/dist-packages (from pandas->datasets) (2025.2)\n",
            "Requirement already satisfied: tzdata>=2022.7 in /usr/local/lib/python3.11/dist-packages (from pandas->datasets) (2025.2)\n",
            "Requirement already satisfied: six>=1.5 in /usr/local/lib/python3.11/dist-packages (from python-dateutil>=2.8.2->pandas->datasets) (1.17.0)\n"
          ]
        }
      ]
    },
    {
      "cell_type": "code",
      "source": [
        "import torch\n",
        "device = 'cuda' if torch.cuda.is_available() else 'cpu'\n",
        "device\n",
        "!pip install --upgrade datasets"
      ],
      "metadata": {
        "colab": {
          "base_uri": "https://localhost:8080/"
        },
        "id": "u37CzDiGmzy9",
        "outputId": "24ef3f1b-a534-4975-9903-1341e75a1517"
      },
      "execution_count": 2,
      "outputs": [
        {
          "output_type": "stream",
          "name": "stdout",
          "text": [
            "Requirement already satisfied: datasets in /usr/local/lib/python3.11/dist-packages (2.14.4)\n",
            "Collecting datasets\n",
            "  Downloading datasets-3.6.0-py3-none-any.whl.metadata (19 kB)\n",
            "Requirement already satisfied: filelock in /usr/local/lib/python3.11/dist-packages (from datasets) (3.18.0)\n",
            "Requirement already satisfied: numpy>=1.17 in /usr/local/lib/python3.11/dist-packages (from datasets) (2.0.2)\n",
            "Requirement already satisfied: pyarrow>=15.0.0 in /usr/local/lib/python3.11/dist-packages (from datasets) (18.1.0)\n",
            "Requirement already satisfied: dill<0.3.9,>=0.3.0 in /usr/local/lib/python3.11/dist-packages (from datasets) (0.3.7)\n",
            "Requirement already satisfied: pandas in /usr/local/lib/python3.11/dist-packages (from datasets) (2.2.2)\n",
            "Requirement already satisfied: requests>=2.32.2 in /usr/local/lib/python3.11/dist-packages (from datasets) (2.32.3)\n",
            "Requirement already satisfied: tqdm>=4.66.3 in /usr/local/lib/python3.11/dist-packages (from datasets) (4.67.1)\n",
            "Requirement already satisfied: xxhash in /usr/local/lib/python3.11/dist-packages (from datasets) (3.5.0)\n",
            "Requirement already satisfied: multiprocess<0.70.17 in /usr/local/lib/python3.11/dist-packages (from datasets) (0.70.15)\n",
            "Collecting fsspec<=2025.3.0,>=2023.1.0 (from fsspec[http]<=2025.3.0,>=2023.1.0->datasets)\n",
            "  Downloading fsspec-2025.3.0-py3-none-any.whl.metadata (11 kB)\n",
            "Requirement already satisfied: huggingface-hub>=0.24.0 in /usr/local/lib/python3.11/dist-packages (from datasets) (0.32.4)\n",
            "Requirement already satisfied: packaging in /usr/local/lib/python3.11/dist-packages (from datasets) (24.2)\n",
            "Requirement already satisfied: pyyaml>=5.1 in /usr/local/lib/python3.11/dist-packages (from datasets) (6.0.2)\n",
            "Requirement already satisfied: aiohttp!=4.0.0a0,!=4.0.0a1 in /usr/local/lib/python3.11/dist-packages (from fsspec[http]<=2025.3.0,>=2023.1.0->datasets) (3.11.15)\n",
            "Requirement already satisfied: typing-extensions>=3.7.4.3 in /usr/local/lib/python3.11/dist-packages (from huggingface-hub>=0.24.0->datasets) (4.14.0)\n",
            "Requirement already satisfied: hf-xet<2.0.0,>=1.1.2 in /usr/local/lib/python3.11/dist-packages (from huggingface-hub>=0.24.0->datasets) (1.1.2)\n",
            "Requirement already satisfied: charset-normalizer<4,>=2 in /usr/local/lib/python3.11/dist-packages (from requests>=2.32.2->datasets) (3.4.2)\n",
            "Requirement already satisfied: idna<4,>=2.5 in /usr/local/lib/python3.11/dist-packages (from requests>=2.32.2->datasets) (3.10)\n",
            "Requirement already satisfied: urllib3<3,>=1.21.1 in /usr/local/lib/python3.11/dist-packages (from requests>=2.32.2->datasets) (2.4.0)\n",
            "Requirement already satisfied: certifi>=2017.4.17 in /usr/local/lib/python3.11/dist-packages (from requests>=2.32.2->datasets) (2025.4.26)\n",
            "Requirement already satisfied: python-dateutil>=2.8.2 in /usr/local/lib/python3.11/dist-packages (from pandas->datasets) (2.9.0.post0)\n",
            "Requirement already satisfied: pytz>=2020.1 in /usr/local/lib/python3.11/dist-packages (from pandas->datasets) (2025.2)\n",
            "Requirement already satisfied: tzdata>=2022.7 in /usr/local/lib/python3.11/dist-packages (from pandas->datasets) (2025.2)\n",
            "Requirement already satisfied: aiohappyeyeballs>=2.3.0 in /usr/local/lib/python3.11/dist-packages (from aiohttp!=4.0.0a0,!=4.0.0a1->fsspec[http]<=2025.3.0,>=2023.1.0->datasets) (2.6.1)\n",
            "Requirement already satisfied: aiosignal>=1.1.2 in /usr/local/lib/python3.11/dist-packages (from aiohttp!=4.0.0a0,!=4.0.0a1->fsspec[http]<=2025.3.0,>=2023.1.0->datasets) (1.3.2)\n",
            "Requirement already satisfied: attrs>=17.3.0 in /usr/local/lib/python3.11/dist-packages (from aiohttp!=4.0.0a0,!=4.0.0a1->fsspec[http]<=2025.3.0,>=2023.1.0->datasets) (25.3.0)\n",
            "Requirement already satisfied: frozenlist>=1.1.1 in /usr/local/lib/python3.11/dist-packages (from aiohttp!=4.0.0a0,!=4.0.0a1->fsspec[http]<=2025.3.0,>=2023.1.0->datasets) (1.6.0)\n",
            "Requirement already satisfied: multidict<7.0,>=4.5 in /usr/local/lib/python3.11/dist-packages (from aiohttp!=4.0.0a0,!=4.0.0a1->fsspec[http]<=2025.3.0,>=2023.1.0->datasets) (6.4.4)\n",
            "Requirement already satisfied: propcache>=0.2.0 in /usr/local/lib/python3.11/dist-packages (from aiohttp!=4.0.0a0,!=4.0.0a1->fsspec[http]<=2025.3.0,>=2023.1.0->datasets) (0.3.1)\n",
            "Requirement already satisfied: yarl<2.0,>=1.17.0 in /usr/local/lib/python3.11/dist-packages (from aiohttp!=4.0.0a0,!=4.0.0a1->fsspec[http]<=2025.3.0,>=2023.1.0->datasets) (1.20.0)\n",
            "Requirement already satisfied: six>=1.5 in /usr/local/lib/python3.11/dist-packages (from python-dateutil>=2.8.2->pandas->datasets) (1.17.0)\n",
            "Downloading datasets-3.6.0-py3-none-any.whl (491 kB)\n",
            "\u001b[2K   \u001b[90m\u2501\u2501\u2501\u2501\u2501\u2501\u2501\u2501\u2501\u2501\u2501\u2501\u2501\u2501\u2501\u2501\u2501\u2501\u2501\u2501\u2501\u2501\u2501\u2501\u2501\u2501\u2501\u2501\u2501\u2501\u2501\u2501\u2501\u2501\u2501\u2501\u2501\u2501\u2501\u2501\u001b[0m \u001b[32m491.5/491.5 kB\u001b[0m \u001b[31m16.4 MB/s\u001b[0m eta \u001b[36m0:00:00\u001b[0m\n",
            "\u001b[?25hDownloading fsspec-2025.3.0-py3-none-any.whl (193 kB)\n",
            "\u001b[2K   \u001b[90m\u2501\u2501\u2501\u2501\u2501\u2501\u2501\u2501\u2501\u2501\u2501\u2501\u2501\u2501\u2501\u2501\u2501\u2501\u2501\u2501\u2501\u2501\u2501\u2501\u2501\u2501\u2501\u2501\u2501\u2501\u2501\u2501\u2501\u2501\u2501\u2501\u2501\u2501\u2501\u2501\u001b[0m \u001b[32m193.6/193.6 kB\u001b[0m \u001b[31m16.5 MB/s\u001b[0m eta \u001b[36m0:00:00\u001b[0m\n",
            "\u001b[?25hInstalling collected packages: fsspec, datasets\n",
            "  Attempting uninstall: fsspec\n",
            "    Found existing installation: fsspec 2025.3.2\n",
            "    Uninstalling fsspec-2025.3.2:\n",
            "      Successfully uninstalled fsspec-2025.3.2\n",
            "  Attempting uninstall: datasets\n",
            "    Found existing installation: datasets 2.14.4\n",
            "    Uninstalling datasets-2.14.4:\n",
            "      Successfully uninstalled datasets-2.14.4\n",
            "\u001b[31mERROR: pip's dependency resolver does not currently take into account all the packages that are installed. This behaviour is the source of the following dependency conflicts.\n",
            "gcsfs 2025.3.2 requires fsspec==2025.3.2, but you have fsspec 2025.3.0 which is incompatible.\n",
            "torch 2.6.0+cu124 requires nvidia-cublas-cu12==12.4.5.8; platform_system == \"Linux\" and platform_machine == \"x86_64\", but you have nvidia-cublas-cu12 12.5.3.2 which is incompatible.\n",
            "torch 2.6.0+cu124 requires nvidia-cuda-cupti-cu12==12.4.127; platform_system == \"Linux\" and platform_machine == \"x86_64\", but you have nvidia-cuda-cupti-cu12 12.5.82 which is incompatible.\n",
            "torch 2.6.0+cu124 requires nvidia-cuda-nvrtc-cu12==12.4.127; platform_system == \"Linux\" and platform_machine == \"x86_64\", but you have nvidia-cuda-nvrtc-cu12 12.5.82 which is incompatible.\n",
            "torch 2.6.0+cu124 requires nvidia-cuda-runtime-cu12==12.4.127; platform_system == \"Linux\" and platform_machine == \"x86_64\", but you have nvidia-cuda-runtime-cu12 12.5.82 which is incompatible.\n",
            "torch 2.6.0+cu124 requires nvidia-cudnn-cu12==9.1.0.70; platform_system == \"Linux\" and platform_machine == \"x86_64\", but you have nvidia-cudnn-cu12 9.3.0.75 which is incompatible.\n",
            "torch 2.6.0+cu124 requires nvidia-cufft-cu12==11.2.1.3; platform_system == \"Linux\" and platform_machine == \"x86_64\", but you have nvidia-cufft-cu12 11.2.3.61 which is incompatible.\n",
            "torch 2.6.0+cu124 requires nvidia-curand-cu12==10.3.5.147; platform_system == \"Linux\" and platform_machine == \"x86_64\", but you have nvidia-curand-cu12 10.3.6.82 which is incompatible.\n",
            "torch 2.6.0+cu124 requires nvidia-cusolver-cu12==11.6.1.9; platform_system == \"Linux\" and platform_machine == \"x86_64\", but you have nvidia-cusolver-cu12 11.6.3.83 which is incompatible.\n",
            "torch 2.6.0+cu124 requires nvidia-cusparse-cu12==12.3.1.170; platform_system == \"Linux\" and platform_machine == \"x86_64\", but you have nvidia-cusparse-cu12 12.5.1.3 which is incompatible.\n",
            "torch 2.6.0+cu124 requires nvidia-nvjitlink-cu12==12.4.127; platform_system == \"Linux\" and platform_machine == \"x86_64\", but you have nvidia-nvjitlink-cu12 12.5.82 which is incompatible.\u001b[0m\u001b[31m\n",
            "\u001b[0mSuccessfully installed datasets-3.6.0 fsspec-2025.3.0\n"
          ]
        }
      ]
    },
    {
      "cell_type": "code",
      "execution_count": 3,
      "metadata": {
        "id": "9MUgao7cfRjG"
      },
      "outputs": [],
      "source": [
        "from datasets import load_dataset"
      ]
    },
    {
      "cell_type": "code",
      "source": [
        "df = load_dataset(\"abisee/cnn_dailymail\",'1.0.0')"
      ],
      "metadata": {
        "colab": {
          "base_uri": "https://localhost:8080/",
          "height": 569,
          "referenced_widgets": [
            "fbb5068ef07145f8ba3607078e4285cc",
            "195ca4b9ede14816a37876518dae0e02",
            "7bc5362a57c14383979bce2e0f1b4308",
            "81ecfd5c90d64f03abc95b1ff67f7924",
            "fe35d5ceeff346e189e2f7b052d607a1",
            "6e5b8dc3b0c5423b83af4480e1b37dbd",
            "8d83b90a7a46430795ba5a38145ede9f",
            "09f836d03c0746dba5e4f540d027c770",
            "c4dc4c902ec14c099bfbd6b794f75b42",
            "e175cc86acff4ca29114167a918b4154",
            "e7a19ceb7124472eacc6eeb19a2fb371",
            "c8dfdc76c71c402c877dffe188f5a3a2",
            "f179e99dd2954a99a1e66ede53632a37",
            "a2cd6b4c2aba41019983fa60c33e13e6",
            "602266ddd02446fcaf27b5684eaa0cbe",
            "2915ffe2fa76499983d060addc3fa320",
            "d7a09d15435c418caefc3578a4aa612c",
            "b776282f41d5440da5cb73be2691dcc2",
            "f121283228334dca8eeaa3cd8e6c5302",
            "ccb9d6fa78df448eaa772cc585e6a0b3",
            "06b699f2e038435687be0fb3a55bb4d3",
            "bfadce89f80e4303abcbae0176961c9a",
            "4cf43fd6b1104279aa95dfd6cead8048",
            "00f1a3b383f64f3f90b40359e6d0c95e",
            "cfc7d95e7762466e89bee7a25ae4866b",
            "986a5ad1530f4010bc07cb11b193a34c",
            "ac5c5a070a1e4d879cd64071bcb7a259",
            "aa5c8cc4d7a44ec7baf2af9f5507815c",
            "25a3498692fb4b1daf0af0bf33c7bc6b",
            "149c8708be104ea8b2c0f77f131deeca",
            "d28a8537e62343039107e01a6c27e5fa",
            "187afa0b0aad45858bc21230195fb02e",
            "78110099a26c440390f4ac1a59ed3d62",
            "f38616c71a7843ca86e5bb7d653de154",
            "09bced396c9146e689fb5b21c7ef290d",
            "b6cd17467d6b441cbb9c3ae6b1062993",
            "e0154da342514b5e8798637257d23069",
            "e5a9672faf6b418ca2483af33c229a11",
            "9ada9d68833c40369287b4772ada5ae7",
            "dc669587a85d4c28a1bba506a48e0940",
            "97db63c313df4dfe800886d7169b84a1",
            "164692fcbc914a94b010bd7aed934fb8",
            "b6ea4a1db29a4fe6ad58f14074549c6b",
            "ccd5b3b18c3345d4aa244482f1bec087",
            "5609e87e879f4ffe9a73582dc7536bc2",
            "c7a15e331cab4e17b1245135e4a9fa3e",
            "f56eb1b2fde1426bac897b7a1ee5f829",
            "79e91b2ed4a34bd69722cf8dfae89b6b",
            "eef60dcc1d0544f584bca33b117754b8",
            "6e3439e3c1274847886f69961e640e01",
            "a391a003639f4b4c920ae1777ff16118",
            "314a9c0c3a8e457b822d89997ce8dfe1",
            "49b56977dd2b48daa2d5717e58a04302",
            "c368ec136f994932b62a18c1ac50c639",
            "d1765b815ed040ddace1b8e431a5a86b",
            "0c7a74d8d7804bb0934cd368b6d1f4e3",
            "540e590ebbcb423f9836a4645599176e",
            "2c007fea8bea4ebc8242f207333a02e4",
            "4820d2d2c2d74b638e8f8e6f3f944e91",
            "1adcfc65788748ae8817f8eaeb9b20e8",
            "5befc1d14af647149722068b2753a034",
            "e6615e38818f45958c2c6f56a0e57e3a",
            "578848038b4445d09bfb39d7560d78e2",
            "ca3e5797a00243669e699b8f770d8714",
            "bf07eef0f7b3443ebaf7fef8be2e3dc2",
            "b2ed46465e254271a86a0a6100d70dcb",
            "02f31a1beffd4a65b30f188f5f46c09d",
            "578c78cdcede49568d1ab2daa8258085",
            "31172d96d9d24cd8ba6126c164c17184",
            "6761fe64bb47457d9c71a0e327fd0171",
            "ec1b8ffe2df1417a939a56ec2214261b",
            "a4a0b57f0bcf42e89af2cf4d4bff9b50",
            "c8b353727c7e47a598ec85670437eacc",
            "cf5837c373104f39be0f0028116020dd",
            "194aa5971596495684f28b8d1f91b972",
            "463a7a72261643d4b9d7e1abeea2c194",
            "652ccdacef2447938d95dd2fda760cdc",
            "4d574899865a46ba8e4ef030711fe196",
            "c673a8d665e64562ad83f0345fcc0d48",
            "3bbfda6f23ae407e85cc723fe539df5b",
            "90b1ece56ca045aa8dad6f1cf38432d3",
            "de5002abdd444f53b51626d40c6c0f57",
            "819eb8db29ad401981f0a129f621268c",
            "087b10893a3b43b29b99e9df1f1bdf99",
            "0a461afa48b048e6aa4f0ea7b8aa9ed9",
            "587d601c906d4b06a6c2ccad2d836e0b",
            "b5850d945c00448ba01f0fe5e560df7d",
            "e6997dfaef734b3f9b4646e00edced2f",
            "a6200d0ab5ff470fa63ce214cef45559",
            "9e1d2d0bf06f4b52b45a4576469158c1",
            "f763986e647948a7b82d7f2a3c5af942",
            "291a83f3849e4b048bc408501e3d721d",
            "e10266608c24474f8901bb744b7dfcbd",
            "f7b999709ff24a5a827108f1e6ca72da",
            "f63a7bf191f940a9b375d3c013904058",
            "94e1070d7f124be1a4074bf341e5f414",
            "ffa7f2273dd546e997ae21323a1228bd",
            "6de1939de8544c279a96cb228c010738",
            "7b159904e56c455ea2744f741738939e"
          ]
        },
        "id": "M7O5BuXTfZIF",
        "outputId": "58f80dfd-3f04-477e-a044-b9e59fa630a6"
      },
      "execution_count": 4,
      "outputs": [
        {
          "output_type": "stream",
          "name": "stderr",
          "text": [
            "/usr/local/lib/python3.11/dist-packages/huggingface_hub/utils/_auth.py:94: UserWarning: \n",
            "The secret `HF_TOKEN` does not exist in your Colab secrets.\n",
            "To authenticate with the Hugging Face Hub, create a token in your settings tab (https://huggingface.co/settings/tokens), set it as secret in your Google Colab and restart your session.\n",
            "You will be able to reuse this secret in all of your notebooks.\n",
            "Please note that authentication is recommended but still optional to access public models or datasets.\n",
            "  warnings.warn(\n"
          ]
        },
        {
          "output_type": "display_data",
          "data": {
            "text/plain": [
              "README.md:   0%|          | 0.00/15.6k [00:00<?, ?B/s]"
            ],
            "application/vnd.jupyter.widget-view+json": {
              "version_major": 2,
              "version_minor": 0,
              "model_id": "fbb5068ef07145f8ba3607078e4285cc"
            }
          },
          "metadata": {}
        },
        {
          "output_type": "display_data",
          "data": {
            "text/plain": [
              "train-00000-of-00003.parquet:   0%|          | 0.00/256M [00:00<?, ?B/s]"
            ],
            "application/vnd.jupyter.widget-view+json": {
              "version_major": 2,
              "version_minor": 0,
              "model_id": "c8dfdc76c71c402c877dffe188f5a3a2"
            }
          },
          "metadata": {}
        },
        {
          "output_type": "display_data",
          "data": {
            "text/plain": [
              "train-00001-of-00003.parquet:   0%|          | 0.00/257M [00:00<?, ?B/s]"
            ],
            "application/vnd.jupyter.widget-view+json": {
              "version_major": 2,
              "version_minor": 0,
              "model_id": "4cf43fd6b1104279aa95dfd6cead8048"
            }
          },
          "metadata": {}
        },
        {
          "output_type": "display_data",
          "data": {
            "text/plain": [
              "train-00002-of-00003.parquet:   0%|          | 0.00/259M [00:00<?, ?B/s]"
            ],
            "application/vnd.jupyter.widget-view+json": {
              "version_major": 2,
              "version_minor": 0,
              "model_id": "f38616c71a7843ca86e5bb7d653de154"
            }
          },
          "metadata": {}
        },
        {
          "output_type": "display_data",
          "data": {
            "text/plain": [
              "validation-00000-of-00001.parquet:   0%|          | 0.00/34.7M [00:00<?, ?B/s]"
            ],
            "application/vnd.jupyter.widget-view+json": {
              "version_major": 2,
              "version_minor": 0,
              "model_id": "5609e87e879f4ffe9a73582dc7536bc2"
            }
          },
          "metadata": {}
        },
        {
          "output_type": "display_data",
          "data": {
            "text/plain": [
              "test-00000-of-00001.parquet:   0%|          | 0.00/30.0M [00:00<?, ?B/s]"
            ],
            "application/vnd.jupyter.widget-view+json": {
              "version_major": 2,
              "version_minor": 0,
              "model_id": "0c7a74d8d7804bb0934cd368b6d1f4e3"
            }
          },
          "metadata": {}
        },
        {
          "output_type": "display_data",
          "data": {
            "text/plain": [
              "Generating train split:   0%|          | 0/287113 [00:00<?, ? examples/s]"
            ],
            "application/vnd.jupyter.widget-view+json": {
              "version_major": 2,
              "version_minor": 0,
              "model_id": "02f31a1beffd4a65b30f188f5f46c09d"
            }
          },
          "metadata": {}
        },
        {
          "output_type": "display_data",
          "data": {
            "text/plain": [
              "Generating validation split:   0%|          | 0/13368 [00:00<?, ? examples/s]"
            ],
            "application/vnd.jupyter.widget-view+json": {
              "version_major": 2,
              "version_minor": 0,
              "model_id": "4d574899865a46ba8e4ef030711fe196"
            }
          },
          "metadata": {}
        },
        {
          "output_type": "display_data",
          "data": {
            "text/plain": [
              "Generating test split:   0%|          | 0/11490 [00:00<?, ? examples/s]"
            ],
            "application/vnd.jupyter.widget-view+json": {
              "version_major": 2,
              "version_minor": 0,
              "model_id": "a6200d0ab5ff470fa63ce214cef45559"
            }
          },
          "metadata": {}
        }
      ]
    },
    {
      "cell_type": "code",
      "source": [
        "df"
      ],
      "metadata": {
        "id": "QXDBZ6sAgW6l",
        "colab": {
          "base_uri": "https://localhost:8080/"
        },
        "outputId": "ec8a0216-4ef3-4f88-fe8f-c80abb1b439c"
      },
      "execution_count": 5,
      "outputs": [
        {
          "output_type": "execute_result",
          "data": {
            "text/plain": [
              "DatasetDict({\n",
              "    train: Dataset({\n",
              "        features: ['article', 'highlights', 'id'],\n",
              "        num_rows: 287113\n",
              "    })\n",
              "    validation: Dataset({\n",
              "        features: ['article', 'highlights', 'id'],\n",
              "        num_rows: 13368\n",
              "    })\n",
              "    test: Dataset({\n",
              "        features: ['article', 'highlights', 'id'],\n",
              "        num_rows: 11490\n",
              "    })\n",
              "})"
            ]
          },
          "metadata": {},
          "execution_count": 5
        }
      ]
    },
    {
      "cell_type": "code",
      "source": [
        "df['train'] = df['train'].select(range(1000))\n",
        "df['validation'] = df['validation'].select(range(1000))\n",
        "df['test'] = df['test'].select(range(1000))\n"
      ],
      "metadata": {
        "id": "GBszGKJWgqGQ"
      },
      "execution_count": 6,
      "outputs": []
    },
    {
      "cell_type": "code",
      "source": [
        "from transformers import AutoTokenizer\n",
        "tokenizer = AutoTokenizer.from_pretrained('csebuetnlp/mT5_multilingual_XLSum')"
      ],
      "metadata": {
        "colab": {
          "base_uri": "https://localhost:8080/",
          "height": 217,
          "referenced_widgets": [
            "cbbb82695edb499495755b151753c9aa",
            "c419da3d461c43ac9139cebf3d2e3338",
            "9692cdd488fa4510bfb1729d4bc7dc6e",
            "8cf4b340b78a48c08f4fec3cbb66cf96",
            "d417d9a968634a29957e785264ea8f73",
            "4b261a64ba6946a191691e1e0fa6cae4",
            "2cb62069b48c43159c823ed0488235ce",
            "427690dc05ac427fab28722f56f3c91b",
            "09719e99d3f54149a79eddb398339cf0",
            "5400e779d3754d5dac92909f395e7709",
            "73bd9c083239456994bac2f21f281eb9",
            "821b1b0d311f46da86cf7c362f051b92",
            "1d6f04e6425f4c66836f508717f97d3e",
            "8dc8d0f91b2f4322b3cb92f21739db9e",
            "9de52fadab624ec595fdff92f57b9637",
            "cafccf190d454d80b1a98f6e56bc6745",
            "c580244d727a403fb656fd162d351e55",
            "cab4649b358a407398ffdf754c6bc10e",
            "240c4161ae5f4e97b193043499303961",
            "86184c7010244977bf3b2538b56adbe1",
            "0ab794984fbf48b9b8e82bbe80065dcd",
            "f1c475e9161e42069292853494f64039",
            "6c0e55e0a76d41fabe2700ced148ed5d",
            "316fd7963600425f84895c8d50c0e3ff",
            "58f3fc2cdbe4436985336d37c06714ab",
            "3247010f737140b99536f180b7216382",
            "d861f58d8bd941698ecc6003cb6b755c",
            "5656ff489d2146d0ba6a897deee8d9bf",
            "848125d140c14ea4a39c2d43e9e6b46e",
            "1a316e6c52cb4c3f8d214bb6e2daed25",
            "2547ff2a8f83451da2f1d37895855d36",
            "db58cb3529704b26ab0d4422ae9cd7cf",
            "8f2682428e9b46958994f2e8ba3fd2f9",
            "d895167c3f734da29170cf2719d54d8c",
            "4db427f392974628bbd5d2c3a153f83e",
            "067f971b651044949ab8e49550beba26",
            "813b597dfa5449af85359457b0d31fa8",
            "5cc6cd03039c40d5a21cce130ce9748f",
            "434eab78c7424172b79a1e0dc5bc1483",
            "d65001d154d143688bf24312d9d5fe9c",
            "92f35d6772b6422e992f57d80340960f",
            "78520d8d33b440c5b39ea4c38f5c790c",
            "52c7e328de98434bb60d1e4643e1f4d1",
            "02526fb49489424998003c9a5164db47"
          ]
        },
        "id": "Px7YU4NLgvkZ",
        "outputId": "f82b2401-c97a-46cc-df97-9f39e4ebeb9c"
      },
      "execution_count": 7,
      "outputs": [
        {
          "output_type": "display_data",
          "data": {
            "text/plain": [
              "tokenizer_config.json:   0%|          | 0.00/375 [00:00<?, ?B/s]"
            ],
            "application/vnd.jupyter.widget-view+json": {
              "version_major": 2,
              "version_minor": 0,
              "model_id": "cbbb82695edb499495755b151753c9aa"
            }
          },
          "metadata": {}
        },
        {
          "output_type": "display_data",
          "data": {
            "text/plain": [
              "config.json:   0%|          | 0.00/730 [00:00<?, ?B/s]"
            ],
            "application/vnd.jupyter.widget-view+json": {
              "version_major": 2,
              "version_minor": 0,
              "model_id": "821b1b0d311f46da86cf7c362f051b92"
            }
          },
          "metadata": {}
        },
        {
          "output_type": "display_data",
          "data": {
            "text/plain": [
              "spiece.model:   0%|          | 0.00/4.31M [00:00<?, ?B/s]"
            ],
            "application/vnd.jupyter.widget-view+json": {
              "version_major": 2,
              "version_minor": 0,
              "model_id": "6c0e55e0a76d41fabe2700ced148ed5d"
            }
          },
          "metadata": {}
        },
        {
          "output_type": "display_data",
          "data": {
            "text/plain": [
              "special_tokens_map.json:   0%|          | 0.00/65.0 [00:00<?, ?B/s]"
            ],
            "application/vnd.jupyter.widget-view+json": {
              "version_major": 2,
              "version_minor": 0,
              "model_id": "d895167c3f734da29170cf2719d54d8c"
            }
          },
          "metadata": {}
        },
        {
          "output_type": "stream",
          "name": "stderr",
          "text": [
            "You are using the default legacy behaviour of the <class 'transformers.models.t5.tokenization_t5.T5Tokenizer'>. This is expected, and simply means that the `legacy` (previous) behavior will be used so nothing changes for you. If you want to use the new behaviour, set `legacy=False`. This should only be set if you understand what it means, and thoroughly read the reason why this was added as explained in https://github.com/huggingface/transformers/pull/24565\n",
            "/usr/local/lib/python3.11/dist-packages/transformers/convert_slow_tokenizer.py:564: UserWarning: The sentencepiece tokenizer that you are converting to a fast tokenizer uses the byte fallback option which is not implemented in the fast tokenizers. In practice this means that the fast version of the tokenizer can produce unknown tokens whereas the sentencepiece version would have converted these unknown tokens into a sequence of byte tokens matching the original piece of text.\n",
            "  warnings.warn(\n"
          ]
        }
      ]
    },
    {
      "cell_type": "code",
      "source": [
        "def tokenize_article(data):\n",
        "  return tokenizer(data['article'],max_length=124,truncation=True,padding='max_length')\n",
        "def tokenize_highlights(data):\n",
        "  tokenized_data = tokenizer(data['highlights'],max_length=124,truncation=True,padding='max_length')\n",
        "  # Rename 'input_ids' to 'labels' for the highlights\n",
        "  tokenized_data['labels'] = tokenized_data.pop('input_ids')\n",
        "  return tokenized_data"
      ],
      "metadata": {
        "id": "QVttnFQEhOps"
      },
      "execution_count": 8,
      "outputs": []
    },
    {
      "cell_type": "code",
      "source": [
        "df = df.map(tokenize_article,batched=True)\n",
        "df = df.map(tokenize_highlights,batched=True)"
      ],
      "metadata": {
        "colab": {
          "base_uri": "https://localhost:8080/",
          "height": 209,
          "referenced_widgets": [
            "87438ce67b0548fab810ddd8e6bbe94b",
            "17aedca1ebed41c88e50b3b0ca2eff8e",
            "8300db7233644143ad27dca5a5c203a5",
            "ca3dd7c970ee4485858c42ed058f5ec8",
            "19852ed027664f5dad9a60f6214261c9",
            "b151f5a4ca5d452bb17ff2289e8ee1a0",
            "9291369f7b8a4ca1b75baa6a1f75ae27",
            "801426b0013b4c6491f3a85357ef8df8",
            "5766f12bcd9541cb89198a43a4de170e",
            "84bcd671427e4337b7a763d177333759",
            "9f91e80d60654bccaf42f8391fa69e76",
            "6322e82addd24fc295dbf0548e42d39b",
            "e12b0fc263f948f981dd05239facc639",
            "bc8b440846334fcf8dadb427d8bad114",
            "6dc8c491b30b4a5bb5d2808875e2842e",
            "63ff696476994be39eb76cccc1704243",
            "4088273493384699aac18e3e307a8258",
            "6b3c3ee309ac416db27f4cfdbcadbc1e",
            "c2ea8878ccd9401e9ae4a22394b0a020",
            "9a6a640105444d4d9f5b78b4568f8cd3",
            "fd99e5c884ea4e11bce4d18ee4dfc655",
            "5835cab2221f4503a7aab8f1e5bda9cb",
            "19bb646f79fd41c184ad67b7bdab1128",
            "e39375ef34c9424c9e57bf0442007a04",
            "d44910d7158e497a9ce8c4c7949fffd1",
            "dee6fac7dd6347c88b104db4e998df75",
            "8112110d41a24aa29bc3f4844980dca6",
            "bc41dc54cc744189a1a4e88fc56fef16",
            "7b11c52d71a14ed7846556ddc77866a2",
            "b62740ea5df7478f90bc7c6bd2a42444",
            "368817e224264d3b9291d3b1982e1085",
            "05368a2d22594ac5abaddce3d1b3d522",
            "bb93aae8d164425d9ea3120dcedd3d8b",
            "36eae99785b648cf8080f4b2796de0f5",
            "f2a205c4b95d40b7944a5c92d0ad7ace",
            "fcd319e8b73d4b78954a775564e2ad8f",
            "463cab8469654267a4db8dedf551f7b1",
            "439c37a097b345e2b3adce317d9b2742",
            "571e0da8ff9844faa7b87d678b858f20",
            "893af6269f3249c59148d529e37f151e",
            "91a8728a78374e9a9137b83fab1c45cc",
            "335caa4a8bab4f7296da29be4fdd3eaf",
            "fe5500571fc8457991491ee091aad28a",
            "47247345fa584f818d1c94c70df4814e",
            "da15ac848c4a41b893a1eb58da57a40b",
            "69118cbda22b4515b91a09481f006fa1",
            "9b6cb417b08c4a3181eae70c38d08be1",
            "695d7e4c6182456bb122d00f3387ab6d",
            "018e6b8539c042249940805510d09bbf",
            "a1849e6702e04ac28aedf9c0f0fbf14e",
            "05987046648345c3986760ee81083da1",
            "acaab310d9844f23a72c7e035d721c9f",
            "84f9e373da994c8c8415f04870f4fc83",
            "067581c76df74fc8af216002c28abea9",
            "ef6bd8ae4be444afbd502d5b7b430fdd",
            "3fafeb4ec17d4f368b5475eb3062029c",
            "72487df6e23942a8ad8bd0f0ca9aef69",
            "c7e61ff612804a50adf990ba2573286b",
            "8cee93226cb34fdbb985db12f7b6396b",
            "63d417ac2bbc408c85db6947d2181d20",
            "68b50a0cd3ec4305a2733992e03bee2e",
            "2b2f4d5c82b0495e8a19ecda211aae83",
            "5527d2e8f5ab49ae8c6e773f9435ea03",
            "f1a0d42c0e024e0a844569a670945dcc",
            "a680e6717fa94bc1a958efa2cb3d9fda",
            "e6025ea65bc14b3caa61980371628e22"
          ]
        },
        "id": "VNigTRM6hzIX",
        "outputId": "987a16b8-76d4-4d4e-a83d-a2803a5ddb7e"
      },
      "execution_count": 9,
      "outputs": [
        {
          "output_type": "display_data",
          "data": {
            "text/plain": [
              "Map:   0%|          | 0/1000 [00:00<?, ? examples/s]"
            ],
            "application/vnd.jupyter.widget-view+json": {
              "version_major": 2,
              "version_minor": 0,
              "model_id": "87438ce67b0548fab810ddd8e6bbe94b"
            }
          },
          "metadata": {}
        },
        {
          "output_type": "display_data",
          "data": {
            "text/plain": [
              "Map:   0%|          | 0/1000 [00:00<?, ? examples/s]"
            ],
            "application/vnd.jupyter.widget-view+json": {
              "version_major": 2,
              "version_minor": 0,
              "model_id": "6322e82addd24fc295dbf0548e42d39b"
            }
          },
          "metadata": {}
        },
        {
          "output_type": "display_data",
          "data": {
            "text/plain": [
              "Map:   0%|          | 0/1000 [00:00<?, ? examples/s]"
            ],
            "application/vnd.jupyter.widget-view+json": {
              "version_major": 2,
              "version_minor": 0,
              "model_id": "19bb646f79fd41c184ad67b7bdab1128"
            }
          },
          "metadata": {}
        },
        {
          "output_type": "display_data",
          "data": {
            "text/plain": [
              "Map:   0%|          | 0/1000 [00:00<?, ? examples/s]"
            ],
            "application/vnd.jupyter.widget-view+json": {
              "version_major": 2,
              "version_minor": 0,
              "model_id": "36eae99785b648cf8080f4b2796de0f5"
            }
          },
          "metadata": {}
        },
        {
          "output_type": "display_data",
          "data": {
            "text/plain": [
              "Map:   0%|          | 0/1000 [00:00<?, ? examples/s]"
            ],
            "application/vnd.jupyter.widget-view+json": {
              "version_major": 2,
              "version_minor": 0,
              "model_id": "da15ac848c4a41b893a1eb58da57a40b"
            }
          },
          "metadata": {}
        },
        {
          "output_type": "display_data",
          "data": {
            "text/plain": [
              "Map:   0%|          | 0/1000 [00:00<?, ? examples/s]"
            ],
            "application/vnd.jupyter.widget-view+json": {
              "version_major": 2,
              "version_minor": 0,
              "model_id": "3fafeb4ec17d4f368b5475eb3062029c"
            }
          },
          "metadata": {}
        }
      ]
    },
    {
      "cell_type": "code",
      "source": [
        "df"
      ],
      "metadata": {
        "colab": {
          "base_uri": "https://localhost:8080/"
        },
        "id": "PPqo17_Xh5N4",
        "outputId": "0f2d11eb-c236-41b7-cee8-37ec7cc7662f"
      },
      "execution_count": 10,
      "outputs": [
        {
          "output_type": "execute_result",
          "data": {
            "text/plain": [
              "DatasetDict({\n",
              "    train: Dataset({\n",
              "        features: ['article', 'highlights', 'id', 'input_ids', 'attention_mask', 'labels'],\n",
              "        num_rows: 1000\n",
              "    })\n",
              "    validation: Dataset({\n",
              "        features: ['article', 'highlights', 'id', 'input_ids', 'attention_mask', 'labels'],\n",
              "        num_rows: 1000\n",
              "    })\n",
              "    test: Dataset({\n",
              "        features: ['article', 'highlights', 'id', 'input_ids', 'attention_mask', 'labels'],\n",
              "        num_rows: 1000\n",
              "    })\n",
              "})"
            ]
          },
          "metadata": {},
          "execution_count": 10
        }
      ]
    },
    {
      "cell_type": "code",
      "source": [
        "from transformers import AutoModelForSeq2SeqLM\n",
        "model = AutoModelForSeq2SeqLM.from_pretrained('csebuetnlp/mT5_multilingual_XLSum').to(device)"
      ],
      "metadata": {
        "colab": {
          "base_uri": "https://localhost:8080/",
          "height": 81,
          "referenced_widgets": [
            "e8c72041015047b5a10f25419d23a059",
            "7e8f2b89de7c40a7b3c6a13de7983511",
            "88ae563931a5485a8f944a4599de07c3",
            "42aeef7f9d9c4b359e4a163073f515ba",
            "191fc81dbd2d494da62f8e6bbcc03ada",
            "e8e0b04dbdb84fac9ed583ef988addb1",
            "9a4d0260216f47bcb1db614758a40d86",
            "5ceb330545a64810b14be213c2efca13",
            "c0bac6e872194ca899e721ce157c6219",
            "373f5cd5464f4babb7e7060859a9a070",
            "94440c5af9b44ad49a6de3716814c0b4",
            "e54b1c583a6145e29d8cc231e28ae57c",
            "d27bbdedb93d4a529b2ca6d236380079",
            "746908e6d4d94b4fb1449b15d9164dc8",
            "4642105a13fb44ba94474654cca7dcd7",
            "b00131a06f0441e88f138badf307170d",
            "a0c310f746bd42a2bc39ace1fad7b180",
            "99d99b9f3aa2466b84b584e0ebe39033",
            "6ca0713d7151460286cb42e558f98a15",
            "8042cdc7895544bf8200c8748c4f5c90",
            "a156e7764e7e4dd7a15058d0f42e6cb3",
            "fc171189f087420db5884e06136037ae"
          ]
        },
        "id": "VPmgYP2qixaT",
        "outputId": "fdb82ac7-08ba-403d-f3a0-fc87116b3776"
      },
      "execution_count": 11,
      "outputs": [
        {
          "output_type": "display_data",
          "data": {
            "text/plain": [
              "pytorch_model.bin:   0%|          | 0.00/2.33G [00:00<?, ?B/s]"
            ],
            "application/vnd.jupyter.widget-view+json": {
              "version_major": 2,
              "version_minor": 0,
              "model_id": "e8c72041015047b5a10f25419d23a059"
            }
          },
          "metadata": {}
        },
        {
          "output_type": "display_data",
          "data": {
            "text/plain": [
              "model.safetensors:   0%|          | 0.00/2.33G [00:00<?, ?B/s]"
            ],
            "application/vnd.jupyter.widget-view+json": {
              "version_major": 2,
              "version_minor": 0,
              "model_id": "e54b1c583a6145e29d8cc231e28ae57c"
            }
          },
          "metadata": {}
        }
      ]
    },
    {
      "cell_type": "code",
      "source": [
        "from transformers import DataCollatorForSeq2Seq\n",
        "data_collator = DataCollatorForSeq2Seq(tokenizer=tokenizer,model=model)"
      ],
      "metadata": {
        "id": "JYMUOIUnkplu"
      },
      "execution_count": 12,
      "outputs": []
    },
    {
      "cell_type": "code",
      "source": [
        "from transformers import TrainingArguments\n",
        "arguments = TrainingArguments(\n",
        "    output_dir='./results',\n",
        "    num_train_epochs=1,\n",
        "    per_device_train_batch_size=4,\n",
        "    per_device_eval_batch_size=4,\n",
        "    weight_decay=0.01,\n",
        "    eval_strategy='epoch',\n",
        "    learning_rate = 2e-5,\n",
        "\n",
        ")"
      ],
      "metadata": {
        "id": "T5TyTxRSiNer"
      },
      "execution_count": 13,
      "outputs": []
    },
    {
      "cell_type": "code",
      "source": [
        "from transformers import Trainer\n",
        "trainer = Trainer(model = model,train_dataset=df['train'],eval_dataset=df['validation'],args=arguments,data_collator=data_collator,tokenizer = tokenizer)\n",
        "trainer.train()"
      ],
      "metadata": {
        "colab": {
          "base_uri": "https://localhost:8080/",
          "height": 526
        },
        "id": "10kWy8mgjIRe",
        "outputId": "4591db00-8d7d-41e2-c03c-d05fd36d7ad4"
      },
      "execution_count": 14,
      "outputs": [
        {
          "output_type": "stream",
          "name": "stderr",
          "text": [
            "<ipython-input-14-9b990668fa70>:2: FutureWarning: `tokenizer` is deprecated and will be removed in version 5.0.0 for `Trainer.__init__`. Use `processing_class` instead.\n",
            "  trainer = Trainer(model = model,train_dataset=df['train'],eval_dataset=df['validation'],args=arguments,data_collator=data_collator,tokenizer = tokenizer)\n",
            "\u001b[34m\u001b[1mwandb\u001b[0m: \u001b[33mWARNING\u001b[0m The `run_name` is currently set to the same value as `TrainingArguments.output_dir`. If this was not intended, please specify a different run name by setting the `TrainingArguments.run_name` parameter.\n"
          ]
        },
        {
          "output_type": "display_data",
          "data": {
            "text/plain": [
              "<IPython.core.display.Javascript object>"
            ],
            "application/javascript": [
              "\n",
              "        window._wandbApiKey = new Promise((resolve, reject) => {\n",
              "            function loadScript(url) {\n",
              "            return new Promise(function(resolve, reject) {\n",
              "                let newScript = document.createElement(\"script\");\n",
              "                newScript.onerror = reject;\n",
              "                newScript.onload = resolve;\n",
              "                document.body.appendChild(newScript);\n",
              "                newScript.src = url;\n",
              "            });\n",
              "            }\n",
              "            loadScript(\"https://cdn.jsdelivr.net/npm/postmate/build/postmate.min.js\").then(() => {\n",
              "            const iframe = document.createElement('iframe')\n",
              "            iframe.style.cssText = \"width:0;height:0;border:none\"\n",
              "            document.body.appendChild(iframe)\n",
              "            const handshake = new Postmate({\n",
              "                container: iframe,\n",
              "                url: 'https://wandb.ai/authorize'\n",
              "            });\n",
              "            const timeout = setTimeout(() => reject(\"Couldn't auto authenticate\"), 5000)\n",
              "            handshake.then(function(child) {\n",
              "                child.on('authorize', data => {\n",
              "                    clearTimeout(timeout)\n",
              "                    resolve(data)\n",
              "                });\n",
              "            });\n",
              "            })\n",
              "        });\n",
              "    "
            ]
          },
          "metadata": {}
        },
        {
          "output_type": "stream",
          "name": "stderr",
          "text": [
            "\u001b[34m\u001b[1mwandb\u001b[0m: Logging into wandb.ai. (Learn how to deploy a W&B server locally: https://wandb.me/wandb-server)\n",
            "\u001b[34m\u001b[1mwandb\u001b[0m: You can find your API key in your browser here: https://wandb.ai/authorize?ref=models\n",
            "wandb: Paste an API key from your profile and hit enter:"
          ]
        },
        {
          "name": "stdout",
          "output_type": "stream",
          "text": [
            " \u00b7\u00b7\u00b7\u00b7\u00b7\u00b7\u00b7\u00b7\u00b7\u00b7\n"
          ]
        },
        {
          "output_type": "stream",
          "name": "stderr",
          "text": [
            "\u001b[34m\u001b[1mwandb\u001b[0m: \u001b[33mWARNING\u001b[0m If you're specifying your api key in code, ensure this code is not shared publicly.\n",
            "\u001b[34m\u001b[1mwandb\u001b[0m: \u001b[33mWARNING\u001b[0m Consider setting the WANDB_API_KEY environment variable, or running `wandb login` from the command line.\n",
            "\u001b[34m\u001b[1mwandb\u001b[0m: No netrc file found, creating one.\n",
            "\u001b[34m\u001b[1mwandb\u001b[0m: Appending key for api.wandb.ai to your netrc file: /root/.netrc\n",
            "\u001b[34m\u001b[1mwandb\u001b[0m: Currently logged in as: \u001b[33mjaskirats2004\u001b[0m (\u001b[33mjaskirats2004-chandigarh-group-of-colleges\u001b[0m) to \u001b[32mhttps://api.wandb.ai\u001b[0m. Use \u001b[1m`wandb login --relogin`\u001b[0m to force relogin\n"
          ]
        },
        {
          "output_type": "display_data",
          "data": {
            "text/plain": [
              "<IPython.core.display.HTML object>"
            ],
            "text/html": [
              "Tracking run with wandb version 0.19.11"
            ]
          },
          "metadata": {}
        },
        {
          "output_type": "display_data",
          "data": {
            "text/plain": [
              "<IPython.core.display.HTML object>"
            ],
            "text/html": [
              "Run data is saved locally in <code>/content/wandb/run-20250607_122318-y7p38g4c</code>"
            ]
          },
          "metadata": {}
        },
        {
          "output_type": "display_data",
          "data": {
            "text/plain": [
              "<IPython.core.display.HTML object>"
            ],
            "text/html": [
              "Syncing run <strong><a href='https://wandb.ai/jaskirats2004-chandigarh-group-of-colleges/huggingface/runs/y7p38g4c' target=\"_blank\">./results</a></strong> to <a href='https://wandb.ai/jaskirats2004-chandigarh-group-of-colleges/huggingface' target=\"_blank\">Weights & Biases</a> (<a href='https://wandb.me/developer-guide' target=\"_blank\">docs</a>)<br>"
            ]
          },
          "metadata": {}
        },
        {
          "output_type": "display_data",
          "data": {
            "text/plain": [
              "<IPython.core.display.HTML object>"
            ],
            "text/html": [
              " View project at <a href='https://wandb.ai/jaskirats2004-chandigarh-group-of-colleges/huggingface' target=\"_blank\">https://wandb.ai/jaskirats2004-chandigarh-group-of-colleges/huggingface</a>"
            ]
          },
          "metadata": {}
        },
        {
          "output_type": "display_data",
          "data": {
            "text/plain": [
              "<IPython.core.display.HTML object>"
            ],
            "text/html": [
              " View run at <a href='https://wandb.ai/jaskirats2004-chandigarh-group-of-colleges/huggingface/runs/y7p38g4c' target=\"_blank\">https://wandb.ai/jaskirats2004-chandigarh-group-of-colleges/huggingface/runs/y7p38g4c</a>"
            ]
          },
          "metadata": {}
        },
        {
          "output_type": "stream",
          "name": "stderr",
          "text": [
            "Passing a tuple of `past_key_values` is deprecated and will be removed in Transformers v4.48.0. You should pass an instance of `EncoderDecoderCache` instead, e.g. `past_key_values=EncoderDecoderCache.from_legacy_cache(past_key_values)`.\n"
          ]
        },
        {
          "output_type": "display_data",
          "data": {
            "text/plain": [
              "<IPython.core.display.HTML object>"
            ],
            "text/html": [
              "\n",
              "    <div>\n",
              "      \n",
              "      <progress value='250' max='250' style='width:300px; height:20px; vertical-align: middle;'></progress>\n",
              "      [250/250 08:38, Epoch 1/1]\n",
              "    </div>\n",
              "    <table border=\"1\" class=\"dataframe\">\n",
              "  <thead>\n",
              " <tr style=\"text-align: left;\">\n",
              "      <th>Epoch</th>\n",
              "      <th>Training Loss</th>\n",
              "      <th>Validation Loss</th>\n",
              "    </tr>\n",
              "  </thead>\n",
              "  <tbody>\n",
              "    <tr>\n",
              "      <td>1</td>\n",
              "      <td>No log</td>\n",
              "      <td>1.482054</td>\n",
              "    </tr>\n",
              "  </tbody>\n",
              "</table><p>"
            ]
          },
          "metadata": {}
        },
        {
          "output_type": "stream",
          "name": "stderr",
          "text": [
            "/usr/local/lib/python3.11/dist-packages/transformers/modeling_utils.py:3465: UserWarning: Moving the following attributes in the config to the generation config: {'max_length': 84, 'num_beams': 4, 'length_penalty': 0.6, 'no_repeat_ngram_size': 2}. You are seeing this warning because you've set generation parameters in the model config, as opposed to in the generation config.\n",
            "  warnings.warn(\n"
          ]
        },
        {
          "output_type": "execute_result",
          "data": {
            "text/plain": [
              "TrainOutput(global_step=250, training_loss=2.06718359375, metrics={'train_runtime': 541.5515, 'train_samples_per_second': 1.847, 'train_steps_per_second': 0.462, 'total_flos': 290393985024000.0, 'train_loss': 2.06718359375, 'epoch': 1.0})"
            ]
          },
          "metadata": {},
          "execution_count": 14
        }
      ]
    },
    {
      "cell_type": "code",
      "source": [
        "text = df['test']['article'][0]\n",
        "tok_text = tokenizer(text,return_tensors='pt').to(device)\n",
        "tok_text\n"
      ],
      "metadata": {
        "id": "ckouqMFHjWiU",
        "colab": {
          "base_uri": "https://localhost:8080/"
        },
        "outputId": "ef3dcfef-5792-4ba8-ba93-9b231b692f2d"
      },
      "execution_count": 17,
      "outputs": [
        {
          "output_type": "execute_result",
          "data": {
            "text/plain": [
              "{'input_ids': tensor([[   274,  57063,    271,   2009,    259, 164228,    259,  86304,  21421,\n",
              "            484,    330,  41428,    287,  19176,   3833,  11912,    304,    287,\n",
              "           4265,    259,  97945,  14503,    351,  19408,    261,    259,    262,\n",
              "          14460,    533,   4550,    263,    287,  15557, 103196,  36910,    910,\n",
              "          90751,    345,  28564,    263,    281,    259, 164228,  53478,    299,\n",
              "            260,    486,  30583,    259,    262, 158878,    639,  64454,    514,\n",
              "            259,    262, 157827,    276,    344,    486,   1816,   7285,    261,\n",
              "            281,    287,  49683,    261,    259,   3001,    287,  15557,    339,\n",
              "            259,   5621,    260,    486,    259, 164228,    263,    259,  38994,\n",
              "            287,    259, 102137,    277,    263,   5897,    347,  22741, 100565,\n",
              "            346,    281,    259,   3829,    261,    259,   1909,    287,    276,\n",
              "           1607,  12004,    345,   2476, 103196,  36910,    910,  90751,    345,\n",
              "          28564,    263,  82483,    285,    313,    348,    287,  48837,    266,\n",
              "            345,    259, 164228,    259, 149824,    261,    259,   7035,   9195,\n",
              "          54176,    261,   8545,   1941,   6436,  17827,    311,  73235,    533,\n",
              "          11400,    261,    287,    259, 102137,    259,  53571,    259,    262,\n",
              "            259,  92096,    276,    259, 107800,   2387,    287,  14633,    281,\n",
              "            259, 164228,  53478,    299,    261,    421,  33619,    287,   3230,\n",
              "            332,   6644,   2381,  28564,    263,    259,  40557,    263,    259,\n",
              "           9825,  95832,    263,    260,   1477,  14939,    304,    287,  15557,\n",
              "            261,    259, 164228,    263,   1432,    390,  14234,    288,  35578,\n",
              "            264,  26112,    263,    527,   2857,    260,  11283,    305,    287,\n",
              "           4248,   9629,    261,    259,    272,  16289,    304,    259,   1542,\n",
              "            339,    461,    259, 102137,  11912,    261,  75236,    345,    287,\n",
              "            259, 164228,    263,    277,    259,  47504,    288,  16853,    287,\n",
              "           8658,    260,   4837,    259, 164228,    259,  72640,  14010,  52820,\n",
              "            285,    440,    264,  51052,    650,    261,    259,  75215,    344,\n",
              "          19408,    277,    263, 157827,    276,    261,   2426,    609,    639,\n",
              "            259,    262,  14201,    288,  12937,   3005,    295,    259,  42102,\n",
              "            260,    313,    357,    263,    259, 182772,  30583,    484,    259,\n",
              "          11467,    263,    259,    262,   6765,  14150,    288,    287,  22741,\n",
              "         100565,    346,   7883,    261,    287,   4836,    339,   1607,    259,\n",
              "            262,  14460,   9192,    286,    288,    259,  34722,    259,    262,\n",
              "           2952,   3415,    304,    259, 126343,   2302,    305,    281,  42102,\n",
              "            914,    790,   2426,    261,    259,  18775,    288,    461,    259,\n",
              "         102137,   6781,  25059,    260,    313,   2594,    368,    345,    261,\n",
              "           7883,   8448,    263,    259,    438,   9192,    286,    288,   1406,\n",
              "            259,  25896,    259,  49968,    304,    259,  42102,    305,  48083,\n",
              "           2454,  35831,   1017,   7853,   5009,    443,  32447,    261,    259,\n",
              "            262,  21259,  13243,    304,    287,    259, 102137,    261,   2426,\n",
              "          35149,  10646,    288,    287,  44711,    276,    639,   1627,    287,\n",
              "           2262,  14460,    332,    287,    259, 164228,    263,    260,    313,\n",
              "            357,    263,    287,  22741, 100565,    346,   7883,  21548,    263,\n",
              "           2387,  12077,    332,    287,   6765,    304,    259, 182772,    261,\n",
              "            259, 182772,  49794,   2244,    751,    287,    259,  31543,    527,\n",
              "           2857,    527,    259, 158451,    533,   1532,    514,    259,   5330,\n",
              "            259,    262,   6765,  14150,    288,    287, 100565,    346,    260,\n",
              "            259,  12115,    418,  52863,    857,  91386,  10841,    261,    259,\n",
              "           1542,    738,   3357,    390,    259,  27948,   8325,    484,    914,\n",
              "           2621,   2426,    260,    259,  26840,   7666,  13752,    259,  26840,\n",
              "           9823,  28645,    285,    287,  10030,    260,    313, 213698,    263,\n",
              "            259,    263,  79767,    288, 233595,    265,    259, 182772,    332,\n",
              "          16853,    347,    287,    259, 102137,   3609,    259,  36696,    484,\n",
              "           3162,    259,   1616,  29107,    261,    305,  28901,    533,   2478,\n",
              "          33609,  12004,   3359,    304,    287,  15557,    277,    263,  44711,\n",
              "            276,   3609,  42051,   1350,    288,  28645,   2476,    259, 111408,\n",
              "            914,   2426, 173290,    265,    299,  17076,   8061,    261,  11480,\n",
              "            259,  42102,    259,  90614,    332,    287,   7666,    260,    313,\n",
              "          35286,    277,    263,  69615,    444,   1059,    339,    287,    344,\n",
              "          22334,    263,    288,   1711,   5650,  11480,    259,  42102,    261,\n",
              "            776,    259, 182772,    277,    263,  11995,    288,  16853,    259,\n",
              "            262,  44711,    276,    288,    259,   1542,    910,    966,  28901,\n",
              "           5945,    287,   4836,    418,  14939,   2454,    563,    259,   3829,\n",
              "            261,    259,   1909,    287,    259,  92096,    276,    259, 102137,\n",
              "            259, 107800,    639,    259,  53571,    261,  95832,  20571,  14010,\n",
              "          49272,   1648,  18164,   1495,    269,  35712,    609,    527,    461,\n",
              "           1350,  34432,    261,   3385,    347,    287,  15557,    639,    910,\n",
              "           1082,  64860,   2476,    259,  28422,  50862,    260,    486,   4248,\n",
              "           9629,   1607,   2426,    609,    313,  17044,    484,    311,   2451,\n",
              "         150130,    285,    514,    287,  15557,    277,    263,  11995,    260,\n",
              "            313,    357,    263,    787,    783,   2426,    259,  10315,  69063,\n",
              "            261,    787,    342,    776,    259,  14037,    533,    259, 182772,\n",
              "            339,    259,    262,   6509,    305,    259,    270,  29354,    787,\n",
              "            342,    776,    259,  14037,    533,    609,    339,    362,    266,\n",
              "         104455,    288,  16853,    287,    259, 102137,    914,    287,   6765,\n",
              "          18568,   2426,    281,    259,    262,  28176,    260,   1385, 134443,\n",
              "            285,    287,   2381,   2848, 103092,    288,  77293,    259,   1616,\n",
              "          25297,    263,   3026,   3867,    259, 159129,    263,    260,    313,\n",
              "           9248,    898,  11882,    288,  75236,    265,    259,  24384,    259,\n",
              "           9825,  11283,    344,    287,    259, 102137,    527,  35578, 123089,\n",
              "            288,    287,    259,  12264,    304,  48083,    914,    609,   2426,\n",
              "            260,   4837,    287,    259, 102137,  21367,    263,    288,  92737,\n",
              "            514,    287,  48906,    304,    259,    262,   6509,    332,   2476,\n",
              "          24257,    263,    305,  15661,    263,    288,    287,  53478,    299,\n",
              "            527,    313, 182772,   2454,    259,  22841,    259,    262,    259,\n",
              "          92096,    276,    259, 107800,    339,    776,    259,    262,  30583,\n",
              "            259,  40557,    261,    609,    259,  36529,    287,  15557,    288,\n",
              "           4302,    259,  40788,    305,    259,  28905,    414,  15219,    288,\n",
              "          76391,    265,    259,  68140,    263,    351,   6117, 103092,    260,\n",
              "          55128, 189623,  18076,    889,   3840, 178521,    262,   2426,   1001,\n",
              "          11474,    259,   2220,    313, 192327,   2476,  17892,    281,   3622,\n",
              "            259, 166286,    305, 108272, 214313,   2454,    486,   2381,    259,\n",
              "           4964,  11283,    305,  53882,    263,    259, 103149,    263,    281,\n",
              "          82989,   3167,  26014,  12255,   1097,   2421, 102581,   2559,  52017,\n",
              "            260,    486,    259,    266,  68839,    898,   9452,  90751,    345,\n",
              "           2381,  28564,    263,  82483,    285,   8545,   1941,    260,    486,\n",
              "           4265,    259,  97945,  14503,    639,   2718,   1150,    281,   5466,\n",
              "            288,  63309,  50744,    259, 166222,    265,    261,  28564,    263,\n",
              "            259,   9825,  78780,    276,    305,   2381,  28564,    263,    260,\n",
              "            259,  57063,    277,    263,    259,  90547,   1288,    476,  20700,\n",
              "            261,  61484,    470, 180748,   1229,    305,    259,  90600,  78812,\n",
              "            266,    259,  70050,    285,    288,    714,   8988,    260,      1]],\n",
              "       device='cuda:0'), 'attention_mask': tensor([[1, 1, 1, 1, 1, 1, 1, 1, 1, 1, 1, 1, 1, 1, 1, 1, 1, 1, 1, 1, 1, 1, 1, 1,\n",
              "         1, 1, 1, 1, 1, 1, 1, 1, 1, 1, 1, 1, 1, 1, 1, 1, 1, 1, 1, 1, 1, 1, 1, 1,\n",
              "         1, 1, 1, 1, 1, 1, 1, 1, 1, 1, 1, 1, 1, 1, 1, 1, 1, 1, 1, 1, 1, 1, 1, 1,\n",
              "         1, 1, 1, 1, 1, 1, 1, 1, 1, 1, 1, 1, 1, 1, 1, 1, 1, 1, 1, 1, 1, 1, 1, 1,\n",
              "         1, 1, 1, 1, 1, 1, 1, 1, 1, 1, 1, 1, 1, 1, 1, 1, 1, 1, 1, 1, 1, 1, 1, 1,\n",
              "         1, 1, 1, 1, 1, 1, 1, 1, 1, 1, 1, 1, 1, 1, 1, 1, 1, 1, 1, 1, 1, 1, 1, 1,\n",
              "         1, 1, 1, 1, 1, 1, 1, 1, 1, 1, 1, 1, 1, 1, 1, 1, 1, 1, 1, 1, 1, 1, 1, 1,\n",
              "         1, 1, 1, 1, 1, 1, 1, 1, 1, 1, 1, 1, 1, 1, 1, 1, 1, 1, 1, 1, 1, 1, 1, 1,\n",
              "         1, 1, 1, 1, 1, 1, 1, 1, 1, 1, 1, 1, 1, 1, 1, 1, 1, 1, 1, 1, 1, 1, 1, 1,\n",
              "         1, 1, 1, 1, 1, 1, 1, 1, 1, 1, 1, 1, 1, 1, 1, 1, 1, 1, 1, 1, 1, 1, 1, 1,\n",
              "         1, 1, 1, 1, 1, 1, 1, 1, 1, 1, 1, 1, 1, 1, 1, 1, 1, 1, 1, 1, 1, 1, 1, 1,\n",
              "         1, 1, 1, 1, 1, 1, 1, 1, 1, 1, 1, 1, 1, 1, 1, 1, 1, 1, 1, 1, 1, 1, 1, 1,\n",
              "         1, 1, 1, 1, 1, 1, 1, 1, 1, 1, 1, 1, 1, 1, 1, 1, 1, 1, 1, 1, 1, 1, 1, 1,\n",
              "         1, 1, 1, 1, 1, 1, 1, 1, 1, 1, 1, 1, 1, 1, 1, 1, 1, 1, 1, 1, 1, 1, 1, 1,\n",
              "         1, 1, 1, 1, 1, 1, 1, 1, 1, 1, 1, 1, 1, 1, 1, 1, 1, 1, 1, 1, 1, 1, 1, 1,\n",
              "         1, 1, 1, 1, 1, 1, 1, 1, 1, 1, 1, 1, 1, 1, 1, 1, 1, 1, 1, 1, 1, 1, 1, 1,\n",
              "         1, 1, 1, 1, 1, 1, 1, 1, 1, 1, 1, 1, 1, 1, 1, 1, 1, 1, 1, 1, 1, 1, 1, 1,\n",
              "         1, 1, 1, 1, 1, 1, 1, 1, 1, 1, 1, 1, 1, 1, 1, 1, 1, 1, 1, 1, 1, 1, 1, 1,\n",
              "         1, 1, 1, 1, 1, 1, 1, 1, 1, 1, 1, 1, 1, 1, 1, 1, 1, 1, 1, 1, 1, 1, 1, 1,\n",
              "         1, 1, 1, 1, 1, 1, 1, 1, 1, 1, 1, 1, 1, 1, 1, 1, 1, 1, 1, 1, 1, 1, 1, 1,\n",
              "         1, 1, 1, 1, 1, 1, 1, 1, 1, 1, 1, 1, 1, 1, 1, 1, 1, 1, 1, 1, 1, 1, 1, 1,\n",
              "         1, 1, 1, 1, 1, 1, 1, 1, 1, 1, 1, 1, 1, 1, 1, 1, 1, 1, 1, 1, 1, 1, 1, 1,\n",
              "         1, 1, 1, 1, 1, 1, 1, 1, 1, 1, 1, 1, 1, 1, 1, 1, 1, 1, 1, 1, 1, 1, 1, 1,\n",
              "         1, 1, 1, 1, 1, 1, 1, 1, 1, 1, 1, 1, 1, 1, 1, 1, 1, 1, 1, 1, 1, 1, 1, 1,\n",
              "         1, 1, 1, 1, 1, 1, 1, 1, 1, 1, 1, 1, 1, 1, 1, 1, 1, 1, 1, 1, 1, 1, 1, 1,\n",
              "         1, 1, 1, 1, 1, 1, 1, 1, 1, 1, 1, 1, 1, 1, 1, 1, 1, 1, 1, 1, 1, 1, 1, 1,\n",
              "         1, 1, 1, 1, 1, 1, 1, 1, 1, 1, 1, 1, 1, 1, 1, 1, 1, 1, 1, 1, 1, 1, 1, 1,\n",
              "         1, 1, 1, 1, 1, 1, 1, 1, 1, 1, 1, 1, 1, 1, 1, 1, 1, 1, 1, 1, 1, 1, 1, 1,\n",
              "         1, 1, 1, 1, 1, 1, 1, 1, 1, 1, 1, 1, 1, 1, 1, 1, 1, 1, 1, 1, 1, 1, 1, 1,\n",
              "         1, 1, 1, 1, 1, 1, 1, 1, 1, 1, 1, 1, 1, 1, 1, 1, 1, 1, 1, 1, 1, 1, 1, 1,\n",
              "         1, 1, 1, 1, 1, 1, 1, 1, 1, 1, 1, 1, 1, 1, 1, 1, 1, 1, 1, 1, 1, 1, 1, 1,\n",
              "         1, 1, 1, 1, 1, 1, 1, 1, 1, 1, 1, 1, 1, 1, 1, 1, 1, 1, 1, 1, 1, 1, 1, 1,\n",
              "         1, 1, 1, 1, 1, 1, 1, 1, 1, 1, 1, 1, 1, 1, 1, 1, 1, 1, 1, 1, 1, 1, 1, 1,\n",
              "         1, 1, 1, 1, 1, 1, 1, 1, 1, 1, 1, 1, 1, 1, 1, 1, 1, 1, 1, 1, 1, 1, 1, 1,\n",
              "         1, 1, 1, 1, 1, 1, 1, 1, 1, 1, 1, 1, 1, 1, 1, 1, 1, 1, 1, 1, 1, 1, 1, 1,\n",
              "         1, 1, 1, 1, 1, 1, 1, 1, 1, 1, 1, 1, 1, 1, 1, 1, 1, 1, 1, 1, 1, 1, 1, 1,\n",
              "         1, 1, 1, 1, 1, 1, 1, 1, 1, 1, 1, 1, 1, 1, 1, 1, 1, 1, 1, 1, 1, 1, 1, 1,\n",
              "         1, 1, 1, 1, 1, 1, 1, 1, 1, 1, 1, 1, 1, 1, 1, 1, 1, 1, 1, 1, 1, 1, 1, 1,\n",
              "         1, 1, 1, 1, 1, 1]], device='cuda:0')}"
            ]
          },
          "metadata": {},
          "execution_count": 17
        }
      ]
    },
    {
      "cell_type": "code",
      "source": [
        "input_ids = tok_text['input_ids']\n",
        "attention_mask = tok_text['attention_mask']"
      ],
      "metadata": {
        "id": "2mhf-IFPYowf"
      },
      "execution_count": 18,
      "outputs": []
    },
    {
      "cell_type": "code",
      "source": [
        "output = model.generate(input_ids,attention_mask=attention_mask)"
      ],
      "metadata": {
        "id": "a87kekZ0Y8Fd"
      },
      "execution_count": 19,
      "outputs": []
    },
    {
      "cell_type": "code",
      "source": [
        "summary = tokenizer.decode(output[0],skip_special_tokens=True)"
      ],
      "metadata": {
        "id": "oZTzUdmKZAGO"
      },
      "execution_count": 20,
      "outputs": []
    },
    {
      "cell_type": "code",
      "source": [
        "print('article: ')\n",
        "print(text)\n",
        "print('summary: ',end='')\n",
        "print(summary)"
      ],
      "metadata": {
        "colab": {
          "base_uri": "https://localhost:8080/"
        },
        "id": "DV2RQUfoZImr",
        "outputId": "03ddd926-6772-44c3-88bc-dbe561d256ef"
      },
      "execution_count": 23,
      "outputs": [
        {
          "output_type": "stream",
          "name": "stdout",
          "text": [
            "article: \n",
            "(CNN)The Palestinian Authority officially became the 123rd member of the International Criminal Court on Wednesday, a step that gives the court jurisdiction over alleged crimes in Palestinian territories. The formal accession was marked with a ceremony at The Hague, in the Netherlands, where the court is based. The Palestinians signed the ICC's founding Rome Statute in January, when they also accepted its jurisdiction over alleged crimes committed \"in the occupied Palestinian territory, including East Jerusalem, since June 13, 2014.\" Later that month, the ICC opened a preliminary examination into the situation in Palestinian territories, paving the way for possible war crimes investigations against Israelis. As members of the court, Palestinians may be subject to counter-charges as well. Israel and the United States, neither of which is an ICC member, opposed the Palestinians' efforts to join the body. But Palestinian Foreign Minister Riad al-Malki, speaking at Wednesday's ceremony, said it was a move toward greater justice. \"As Palestine formally becomes a State Party to the Rome Statute today, the world is also a step closer to ending a long era of impunity and injustice,\" he said, according to an ICC news release. \"Indeed, today brings us closer to our shared goals of justice and peace.\" Judge Kuniko Ozaki, a vice president of the ICC, said acceding to the treaty was just the first step for the Palestinians. \"As the Rome Statute today enters into force for the State of Palestine, Palestine acquires all the rights as well as responsibilities that come with being a State Party to the Statute. These are substantive commitments, which cannot be taken lightly,\" she said. Rights group Human Rights Watch welcomed the development. \"Governments seeking to penalize Palestine for joining the ICC should immediately end their pressure, and countries that support universal acceptance of the court's treaty should speak out to welcome its membership,\" said Balkees Jarrah, international justice counsel for the group. \"What's objectionable is the attempts to undermine international justice, not Palestine's decision to join a treaty to which over 100 countries around the world are members.\" In January, when the preliminary ICC examination was opened, Israeli Prime Minister Benjamin Netanyahu described it as an outrage, saying the court was overstepping its boundaries. The United States also said it \"strongly\" disagreed with the court's decision. \"As we have said repeatedly, we do not believe that Palestine is a state and therefore we do not believe that it is eligible to join the ICC,\" the State Department said in a statement. It urged the warring sides to resolve their differences through direct negotiations. \"We will continue to oppose actions against Israel at the ICC as counterproductive to the cause of peace,\" it said. But the ICC begs to differ with the definition of a state for its purposes and refers to the territories as \"Palestine.\" While a preliminary examination is not a formal investigation, it allows the court to review evidence and determine whether to investigate suspects on both sides. Prosecutor Fatou Bensouda said her office would \"conduct its analysis in full independence and impartiality.\" The war between Israel and Hamas militants in Gaza last summer left more than 2,000 people dead. The inquiry will include alleged war crimes committed since June. The International Criminal Court was set up in 2002 to prosecute genocide, crimes against humanity and war crimes. CNN's Vasco Cotovio, Kareem Khadder and Faith Karimi contributed to this report.\n",
            "summary: The Palestinians have formally accepted membership of the International Criminal Court (ICC).\n"
          ]
        }
      ]
    },
    {
      "cell_type": "code",
      "source": [],
      "metadata": {
        "id": "J2HxNzohZFun"
      },
      "execution_count": null,
      "outputs": []
    }
  ]
}